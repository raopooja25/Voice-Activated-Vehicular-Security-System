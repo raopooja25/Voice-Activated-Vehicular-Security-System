{
 "cells": [
  {
   "cell_type": "markdown",
   "metadata": {},
   "source": [
    "\n",
    "\n",
    "# Alexa Project Code Contribution\n",
    "\n",
    "> Author: Chet (alias, techds)  \n",
    "> * Splitting a large audio file into multiple audio clips on:  \n",
    ">   * the chosen silence length and threshold \n",
    ">   * a constant split rate (measured in ms between splits)\n",
    "> * Creating a dataframe of speaker-specific audio clips\n",
    "> * Getting the path of each audio clip in the dataset \n",
    "\n"
   ]
  },
  {
   "cell_type": "code",
   "execution_count": 1,
   "metadata": {},
   "outputs": [],
   "source": [
    "# imports\n",
    "\n",
    "import warnings\n",
    "warnings.filterwarnings('ignore')\n",
    "import numpy as np\n",
    "import pandas as pd\n",
    "import re\n",
    "import pydub\n",
    "from pydub import AudioSegment as audio\n",
    "from pydub.silence import split_on_silence as sos\n",
    "from pydub.playback import play\n",
    "import glob\n",
    "import time\n"
   ]
  },
  {
   "cell_type": "markdown",
   "metadata": {},
   "source": [
    "### Function to split audio on silence"
   ]
  },
  {
   "cell_type": "code",
   "execution_count": 2,
   "metadata": {},
   "outputs": [
    {
     "name": "stdout",
     "output_type": "stream",
     "text": [
      "Ready to split on silence\n"
     ]
    }
   ],
   "source": [
    "# Splits on silence length and threshold. Audio clips created \n",
    "#  from the large file will vary in size and length.\n",
    "# allows you to specify the path to the large audio file and \n",
    "#  the file name with extension.\n",
    "# allows you to play the audio clip (set switch to True).\n",
    "# currently works with wav and mp3 audio files.\n",
    "# requires user input for naming splits.\n",
    "\n",
    "def split_audio(path, file, pause_len, quiet_level, play_clip=False):\n",
    "    if file[-3:] == 'wav':\n",
    "        audio_file = audio.from_wav(path + file)\n",
    "    else:\n",
    "        audio_file = audio.from_mp3(path + file)\n",
    "    \n",
    "    if play_clip is True:\n",
    "       play(audio_file) \n",
    "    \n",
    "    print('\\nReading audio...this might take a while!')\n",
    "    audio_bits = sos(audio_file, \n",
    "                     min_silence_len = pause_len, \n",
    "                     silence_thresh = quiet_level)\n",
    "    \n",
    "    file_prefix = input('Enter your first and last initial (lower case) w/o spaces: ' )\n",
    "    file_prefix = re.sub('\\s+','', file_prefix)\n",
    "    audio_clips = []\n",
    "    for i,bit in enumerate(audio_bits):\n",
    "        output = path + file_prefix + '_split_sent{0}.wav'.format(i+1)\n",
    "        clip = file_prefix + '_split_sent{0}.wav'.format(i+1)\n",
    "        print('Exporting audio clip:', output)\n",
    "        bit.export(output, format='wav')\n",
    "        audio_clips.append(clip)\n",
    "\n",
    "    return(file_prefix, audio_clips)\n",
    "\n",
    "print('Ready to split on silence')\n"
   ]
  },
  {
   "cell_type": "code",
   "execution_count": 3,
   "metadata": {},
   "outputs": [
    {
     "ename": "FileNotFoundError",
     "evalue": "[Errno 2] No such file or directory: '/path/to/your/audio/file/your_audio_file_name.mp3'",
     "output_type": "error",
     "traceback": [
      "\u001b[1;31m---------------------------------------------------------------------------\u001b[0m",
      "\u001b[1;31mFileNotFoundError\u001b[0m                         Traceback (most recent call last)",
      "\u001b[1;32m<ipython-input-3-a0b21c35bd97>\u001b[0m in \u001b[0;36m<module>\u001b[1;34m\u001b[0m\n\u001b[0;32m     10\u001b[0m \u001b[1;31m# these values may have to be tweeked for different files.\u001b[0m\u001b[1;33m\u001b[0m\u001b[1;33m\u001b[0m\u001b[1;33m\u001b[0m\u001b[0m\n\u001b[0;32m     11\u001b[0m \u001b[1;33m\u001b[0m\u001b[0m\n\u001b[1;32m---> 12\u001b[1;33m \u001b[0msplit_audio\u001b[0m\u001b[1;33m(\u001b[0m\u001b[0mpath\u001b[0m\u001b[1;33m,\u001b[0m \u001b[0mfile\u001b[0m\u001b[1;33m,\u001b[0m \u001b[1;36m1500\u001b[0m\u001b[1;33m,\u001b[0m \u001b[1;33m-\u001b[0m\u001b[1;36m35\u001b[0m\u001b[1;33m,\u001b[0m \u001b[0mplay_clip\u001b[0m\u001b[1;33m=\u001b[0m\u001b[1;32mFalse\u001b[0m\u001b[1;33m)\u001b[0m\u001b[1;33m\u001b[0m\u001b[1;33m\u001b[0m\u001b[0m\n\u001b[0m",
      "\u001b[1;32m<ipython-input-2-fc8f443337d8>\u001b[0m in \u001b[0;36msplit_audio\u001b[1;34m(path, file, pause_len, quiet_level, play_clip)\u001b[0m\n\u001b[0;32m     11\u001b[0m         \u001b[0maudio_file\u001b[0m \u001b[1;33m=\u001b[0m \u001b[0maudio\u001b[0m\u001b[1;33m.\u001b[0m\u001b[0mfrom_wav\u001b[0m\u001b[1;33m(\u001b[0m\u001b[0mpath\u001b[0m \u001b[1;33m+\u001b[0m \u001b[0mfile\u001b[0m\u001b[1;33m)\u001b[0m\u001b[1;33m\u001b[0m\u001b[1;33m\u001b[0m\u001b[0m\n\u001b[0;32m     12\u001b[0m     \u001b[1;32melse\u001b[0m\u001b[1;33m:\u001b[0m\u001b[1;33m\u001b[0m\u001b[1;33m\u001b[0m\u001b[0m\n\u001b[1;32m---> 13\u001b[1;33m         \u001b[0maudio_file\u001b[0m \u001b[1;33m=\u001b[0m \u001b[0maudio\u001b[0m\u001b[1;33m.\u001b[0m\u001b[0mfrom_mp3\u001b[0m\u001b[1;33m(\u001b[0m\u001b[0mpath\u001b[0m \u001b[1;33m+\u001b[0m \u001b[0mfile\u001b[0m\u001b[1;33m)\u001b[0m\u001b[1;33m\u001b[0m\u001b[1;33m\u001b[0m\u001b[0m\n\u001b[0m\u001b[0;32m     14\u001b[0m \u001b[1;33m\u001b[0m\u001b[0m\n\u001b[0;32m     15\u001b[0m     \u001b[1;32mif\u001b[0m \u001b[0mplay_clip\u001b[0m \u001b[1;32mis\u001b[0m \u001b[1;32mTrue\u001b[0m\u001b[1;33m:\u001b[0m\u001b[1;33m\u001b[0m\u001b[1;33m\u001b[0m\u001b[0m\n",
      "\u001b[1;32m~\\Anaconda3\\envs\\Alexa_Project_IEOR290\\lib\\site-packages\\pydub\\audio_segment.py\u001b[0m in \u001b[0;36mfrom_mp3\u001b[1;34m(cls, file, parameters)\u001b[0m\n\u001b[0;32m    714\u001b[0m     \u001b[1;33m@\u001b[0m\u001b[0mclassmethod\u001b[0m\u001b[1;33m\u001b[0m\u001b[1;33m\u001b[0m\u001b[0m\n\u001b[0;32m    715\u001b[0m     \u001b[1;32mdef\u001b[0m \u001b[0mfrom_mp3\u001b[0m\u001b[1;33m(\u001b[0m\u001b[0mcls\u001b[0m\u001b[1;33m,\u001b[0m \u001b[0mfile\u001b[0m\u001b[1;33m,\u001b[0m \u001b[0mparameters\u001b[0m\u001b[1;33m=\u001b[0m\u001b[1;32mNone\u001b[0m\u001b[1;33m)\u001b[0m\u001b[1;33m:\u001b[0m\u001b[1;33m\u001b[0m\u001b[1;33m\u001b[0m\u001b[0m\n\u001b[1;32m--> 716\u001b[1;33m         \u001b[1;32mreturn\u001b[0m \u001b[0mcls\u001b[0m\u001b[1;33m.\u001b[0m\u001b[0mfrom_file\u001b[0m\u001b[1;33m(\u001b[0m\u001b[0mfile\u001b[0m\u001b[1;33m,\u001b[0m \u001b[1;34m'mp3'\u001b[0m\u001b[1;33m,\u001b[0m \u001b[0mparameters\u001b[0m\u001b[1;33m=\u001b[0m\u001b[0mparameters\u001b[0m\u001b[1;33m)\u001b[0m\u001b[1;33m\u001b[0m\u001b[1;33m\u001b[0m\u001b[0m\n\u001b[0m\u001b[0;32m    717\u001b[0m \u001b[1;33m\u001b[0m\u001b[0m\n\u001b[0;32m    718\u001b[0m     \u001b[1;33m@\u001b[0m\u001b[0mclassmethod\u001b[0m\u001b[1;33m\u001b[0m\u001b[1;33m\u001b[0m\u001b[0m\n",
      "\u001b[1;32m~\\Anaconda3\\envs\\Alexa_Project_IEOR290\\lib\\site-packages\\pydub\\audio_segment.py\u001b[0m in \u001b[0;36mfrom_file\u001b[1;34m(cls, file, format, codec, parameters, **kwargs)\u001b[0m\n\u001b[0;32m    608\u001b[0m         \u001b[1;32mexcept\u001b[0m \u001b[0mTypeError\u001b[0m\u001b[1;33m:\u001b[0m\u001b[1;33m\u001b[0m\u001b[1;33m\u001b[0m\u001b[0m\n\u001b[0;32m    609\u001b[0m             \u001b[0mfilename\u001b[0m \u001b[1;33m=\u001b[0m \u001b[1;32mNone\u001b[0m\u001b[1;33m\u001b[0m\u001b[1;33m\u001b[0m\u001b[0m\n\u001b[1;32m--> 610\u001b[1;33m         \u001b[0mfile\u001b[0m \u001b[1;33m=\u001b[0m \u001b[0m_fd_or_path_or_tempfile\u001b[0m\u001b[1;33m(\u001b[0m\u001b[0mfile\u001b[0m\u001b[1;33m,\u001b[0m \u001b[1;34m'rb'\u001b[0m\u001b[1;33m,\u001b[0m \u001b[0mtempfile\u001b[0m\u001b[1;33m=\u001b[0m\u001b[1;32mFalse\u001b[0m\u001b[1;33m)\u001b[0m\u001b[1;33m\u001b[0m\u001b[1;33m\u001b[0m\u001b[0m\n\u001b[0m\u001b[0;32m    611\u001b[0m \u001b[1;33m\u001b[0m\u001b[0m\n\u001b[0;32m    612\u001b[0m         \u001b[1;32mif\u001b[0m \u001b[0mformat\u001b[0m\u001b[1;33m:\u001b[0m\u001b[1;33m\u001b[0m\u001b[1;33m\u001b[0m\u001b[0m\n",
      "\u001b[1;32m~\\Anaconda3\\envs\\Alexa_Project_IEOR290\\lib\\site-packages\\pydub\\utils.py\u001b[0m in \u001b[0;36m_fd_or_path_or_tempfile\u001b[1;34m(fd, mode, tempfile)\u001b[0m\n\u001b[0;32m     55\u001b[0m \u001b[1;33m\u001b[0m\u001b[0m\n\u001b[0;32m     56\u001b[0m     \u001b[1;32mif\u001b[0m \u001b[0misinstance\u001b[0m\u001b[1;33m(\u001b[0m\u001b[0mfd\u001b[0m\u001b[1;33m,\u001b[0m \u001b[0mbasestring\u001b[0m\u001b[1;33m)\u001b[0m\u001b[1;33m:\u001b[0m\u001b[1;33m\u001b[0m\u001b[1;33m\u001b[0m\u001b[0m\n\u001b[1;32m---> 57\u001b[1;33m         \u001b[0mfd\u001b[0m \u001b[1;33m=\u001b[0m \u001b[0mopen\u001b[0m\u001b[1;33m(\u001b[0m\u001b[0mfd\u001b[0m\u001b[1;33m,\u001b[0m \u001b[0mmode\u001b[0m\u001b[1;33m=\u001b[0m\u001b[0mmode\u001b[0m\u001b[1;33m)\u001b[0m\u001b[1;33m\u001b[0m\u001b[1;33m\u001b[0m\u001b[0m\n\u001b[0m\u001b[0;32m     58\u001b[0m \u001b[1;33m\u001b[0m\u001b[0m\n\u001b[0;32m     59\u001b[0m     \u001b[1;32mtry\u001b[0m\u001b[1;33m:\u001b[0m\u001b[1;33m\u001b[0m\u001b[1;33m\u001b[0m\u001b[0m\n",
      "\u001b[1;31mFileNotFoundError\u001b[0m: [Errno 2] No such file or directory: '/path/to/your/audio/file/your_audio_file_name.mp3'"
     ]
    }
   ],
   "source": [
    "# specify path and name of file to be split.\n",
    "# use the function to split audio.\n",
    "\n",
    "path = '/path/to/your/audio/file/'\n",
    "file = 'your_audio_file_name.mp3'\n",
    "\n",
    "# choose silence length in ms and silence threshold in dBFS.\n",
    "# for the audio file on 100 sentences with a 2000 ms pause between \n",
    "#  each sentence,  1500 and -35 have yielded the least error.  \n",
    "# these values may have to be tweeked for different files.\n",
    "\n",
    "split_audio(path, file, 1500, -35, play_clip=False)\n"
   ]
  },
  {
   "cell_type": "code",
   "execution_count": 4,
   "metadata": {},
   "outputs": [],
   "source": [
    "# test run using pooja's audio file:\n",
    "# split on silence did not produce a full complement\n",
    "#  of 100 clips (>= 5 sec each) for pooja's mp3 file.\n",
    "# used a constant split rate of 5742 in the function below."
   ]
  },
  {
   "cell_type": "markdown",
   "metadata": {},
   "source": [
    "###  Function to split audio on split rate"
   ]
  },
  {
   "cell_type": "code",
   "execution_count": 5,
   "metadata": {},
   "outputs": [
    {
     "name": "stdout",
     "output_type": "stream",
     "text": [
      "Ready to split on split rate\n"
     ]
    }
   ],
   "source": [
    "# Splits on a constant split rate. Audio clips created from \n",
    "#  the large file will nearly be the same size and length.\n",
    "# allows the flexibility to specify the path to the large  \n",
    "#  audio file and the file name with extension.\n",
    "# allows you to play the audio clip (set switch to True).\n",
    "# currently works with wav and mp3 audio files.\n",
    "# requires user input for naming splits.\n",
    "\n",
    "\n",
    "def split_audio(path, file, split_rate, play_clip=False):\n",
    "    print('\\nProcessing audio...')\n",
    "    \n",
    "    if file[-3:] == 'wav':\n",
    "        audio_file = audio.from_wav(path + file)\n",
    "    else:\n",
    "        audio_file = audio.from_mp3(path + file)\n",
    "    \n",
    "    if play_clip is True:\n",
    "       play(audio_file) \n",
    "    \n",
    "    file_prefix = input('Enter the speaker\\'s first and last initial (lower case) w/o spaces: ' )\n",
    "    file_prefix = re.sub('\\s+','', file_prefix)\n",
    "    \n",
    "    audio_clips = []\n",
    "    for i,bit in enumerate(audio_file[::split_rate]):\n",
    "        output = path + file_prefix + '_split_sent{0}.wav'.format(i+1)\n",
    "        clip = file_prefix + '_split_sent{0}.wav'.format(i+1)\n",
    "        print('Exporting audio clip:', output)\n",
    "        bit.export(output, format='wav')\n",
    "        audio_clips.append(clip)\n",
    "    \n",
    "    return(file_prefix, audio_clips)\n",
    "\n",
    "print('Ready to split on split rate')\n"
   ]
  },
  {
   "cell_type": "code",
   "execution_count": 6,
   "metadata": {},
   "outputs": [
    {
     "name": "stdout",
     "output_type": "stream",
     "text": [
      "\n",
      "Processing audio...\n"
     ]
    },
    {
     "ename": "FileNotFoundError",
     "evalue": "[Errno 2] No such file or directory: '/your/cs/Downloads/Utterances_Pooja.mp3'",
     "output_type": "error",
     "traceback": [
      "\u001b[1;31m---------------------------------------------------------------------------\u001b[0m",
      "\u001b[1;31mFileNotFoundError\u001b[0m                         Traceback (most recent call last)",
      "\u001b[1;32m<ipython-input-6-af4cbcfd17a7>\u001b[0m in \u001b[0;36m<module>\u001b[1;34m\u001b[0m\n\u001b[0;32m     11\u001b[0m \u001b[1;31m#  5742 instead of 7000.\u001b[0m\u001b[1;33m\u001b[0m\u001b[1;33m\u001b[0m\u001b[1;33m\u001b[0m\u001b[0m\n\u001b[0;32m     12\u001b[0m \u001b[1;33m\u001b[0m\u001b[0m\n\u001b[1;32m---> 13\u001b[1;33m \u001b[0msplit_audio\u001b[0m\u001b[1;33m(\u001b[0m\u001b[0mpath\u001b[0m\u001b[1;33m,\u001b[0m \u001b[0mfile\u001b[0m\u001b[1;33m,\u001b[0m \u001b[1;36m7000\u001b[0m\u001b[1;33m,\u001b[0m \u001b[0mplay_clip\u001b[0m\u001b[1;33m=\u001b[0m\u001b[1;32mFalse\u001b[0m\u001b[1;33m)\u001b[0m\u001b[1;33m\u001b[0m\u001b[1;33m\u001b[0m\u001b[0m\n\u001b[0m",
      "\u001b[1;32m<ipython-input-5-95beeea17416>\u001b[0m in \u001b[0;36msplit_audio\u001b[1;34m(path, file, split_rate, play_clip)\u001b[0m\n\u001b[0;32m     14\u001b[0m         \u001b[0maudio_file\u001b[0m \u001b[1;33m=\u001b[0m \u001b[0maudio\u001b[0m\u001b[1;33m.\u001b[0m\u001b[0mfrom_wav\u001b[0m\u001b[1;33m(\u001b[0m\u001b[0mpath\u001b[0m \u001b[1;33m+\u001b[0m \u001b[0mfile\u001b[0m\u001b[1;33m)\u001b[0m\u001b[1;33m\u001b[0m\u001b[1;33m\u001b[0m\u001b[0m\n\u001b[0;32m     15\u001b[0m     \u001b[1;32melse\u001b[0m\u001b[1;33m:\u001b[0m\u001b[1;33m\u001b[0m\u001b[1;33m\u001b[0m\u001b[0m\n\u001b[1;32m---> 16\u001b[1;33m         \u001b[0maudio_file\u001b[0m \u001b[1;33m=\u001b[0m \u001b[0maudio\u001b[0m\u001b[1;33m.\u001b[0m\u001b[0mfrom_mp3\u001b[0m\u001b[1;33m(\u001b[0m\u001b[0mpath\u001b[0m \u001b[1;33m+\u001b[0m \u001b[0mfile\u001b[0m\u001b[1;33m)\u001b[0m\u001b[1;33m\u001b[0m\u001b[1;33m\u001b[0m\u001b[0m\n\u001b[0m\u001b[0;32m     17\u001b[0m \u001b[1;33m\u001b[0m\u001b[0m\n\u001b[0;32m     18\u001b[0m     \u001b[1;32mif\u001b[0m \u001b[0mplay_clip\u001b[0m \u001b[1;32mis\u001b[0m \u001b[1;32mTrue\u001b[0m\u001b[1;33m:\u001b[0m\u001b[1;33m\u001b[0m\u001b[1;33m\u001b[0m\u001b[0m\n",
      "\u001b[1;32m~\\Anaconda3\\envs\\Alexa_Project_IEOR290\\lib\\site-packages\\pydub\\audio_segment.py\u001b[0m in \u001b[0;36mfrom_mp3\u001b[1;34m(cls, file, parameters)\u001b[0m\n\u001b[0;32m    714\u001b[0m     \u001b[1;33m@\u001b[0m\u001b[0mclassmethod\u001b[0m\u001b[1;33m\u001b[0m\u001b[1;33m\u001b[0m\u001b[0m\n\u001b[0;32m    715\u001b[0m     \u001b[1;32mdef\u001b[0m \u001b[0mfrom_mp3\u001b[0m\u001b[1;33m(\u001b[0m\u001b[0mcls\u001b[0m\u001b[1;33m,\u001b[0m \u001b[0mfile\u001b[0m\u001b[1;33m,\u001b[0m \u001b[0mparameters\u001b[0m\u001b[1;33m=\u001b[0m\u001b[1;32mNone\u001b[0m\u001b[1;33m)\u001b[0m\u001b[1;33m:\u001b[0m\u001b[1;33m\u001b[0m\u001b[1;33m\u001b[0m\u001b[0m\n\u001b[1;32m--> 716\u001b[1;33m         \u001b[1;32mreturn\u001b[0m \u001b[0mcls\u001b[0m\u001b[1;33m.\u001b[0m\u001b[0mfrom_file\u001b[0m\u001b[1;33m(\u001b[0m\u001b[0mfile\u001b[0m\u001b[1;33m,\u001b[0m \u001b[1;34m'mp3'\u001b[0m\u001b[1;33m,\u001b[0m \u001b[0mparameters\u001b[0m\u001b[1;33m=\u001b[0m\u001b[0mparameters\u001b[0m\u001b[1;33m)\u001b[0m\u001b[1;33m\u001b[0m\u001b[1;33m\u001b[0m\u001b[0m\n\u001b[0m\u001b[0;32m    717\u001b[0m \u001b[1;33m\u001b[0m\u001b[0m\n\u001b[0;32m    718\u001b[0m     \u001b[1;33m@\u001b[0m\u001b[0mclassmethod\u001b[0m\u001b[1;33m\u001b[0m\u001b[1;33m\u001b[0m\u001b[0m\n",
      "\u001b[1;32m~\\Anaconda3\\envs\\Alexa_Project_IEOR290\\lib\\site-packages\\pydub\\audio_segment.py\u001b[0m in \u001b[0;36mfrom_file\u001b[1;34m(cls, file, format, codec, parameters, **kwargs)\u001b[0m\n\u001b[0;32m    608\u001b[0m         \u001b[1;32mexcept\u001b[0m \u001b[0mTypeError\u001b[0m\u001b[1;33m:\u001b[0m\u001b[1;33m\u001b[0m\u001b[1;33m\u001b[0m\u001b[0m\n\u001b[0;32m    609\u001b[0m             \u001b[0mfilename\u001b[0m \u001b[1;33m=\u001b[0m \u001b[1;32mNone\u001b[0m\u001b[1;33m\u001b[0m\u001b[1;33m\u001b[0m\u001b[0m\n\u001b[1;32m--> 610\u001b[1;33m         \u001b[0mfile\u001b[0m \u001b[1;33m=\u001b[0m \u001b[0m_fd_or_path_or_tempfile\u001b[0m\u001b[1;33m(\u001b[0m\u001b[0mfile\u001b[0m\u001b[1;33m,\u001b[0m \u001b[1;34m'rb'\u001b[0m\u001b[1;33m,\u001b[0m \u001b[0mtempfile\u001b[0m\u001b[1;33m=\u001b[0m\u001b[1;32mFalse\u001b[0m\u001b[1;33m)\u001b[0m\u001b[1;33m\u001b[0m\u001b[1;33m\u001b[0m\u001b[0m\n\u001b[0m\u001b[0;32m    611\u001b[0m \u001b[1;33m\u001b[0m\u001b[0m\n\u001b[0;32m    612\u001b[0m         \u001b[1;32mif\u001b[0m \u001b[0mformat\u001b[0m\u001b[1;33m:\u001b[0m\u001b[1;33m\u001b[0m\u001b[1;33m\u001b[0m\u001b[0m\n",
      "\u001b[1;32m~\\Anaconda3\\envs\\Alexa_Project_IEOR290\\lib\\site-packages\\pydub\\utils.py\u001b[0m in \u001b[0;36m_fd_or_path_or_tempfile\u001b[1;34m(fd, mode, tempfile)\u001b[0m\n\u001b[0;32m     55\u001b[0m \u001b[1;33m\u001b[0m\u001b[0m\n\u001b[0;32m     56\u001b[0m     \u001b[1;32mif\u001b[0m \u001b[0misinstance\u001b[0m\u001b[1;33m(\u001b[0m\u001b[0mfd\u001b[0m\u001b[1;33m,\u001b[0m \u001b[0mbasestring\u001b[0m\u001b[1;33m)\u001b[0m\u001b[1;33m:\u001b[0m\u001b[1;33m\u001b[0m\u001b[1;33m\u001b[0m\u001b[0m\n\u001b[1;32m---> 57\u001b[1;33m         \u001b[0mfd\u001b[0m \u001b[1;33m=\u001b[0m \u001b[0mopen\u001b[0m\u001b[1;33m(\u001b[0m\u001b[0mfd\u001b[0m\u001b[1;33m,\u001b[0m \u001b[0mmode\u001b[0m\u001b[1;33m=\u001b[0m\u001b[0mmode\u001b[0m\u001b[1;33m)\u001b[0m\u001b[1;33m\u001b[0m\u001b[1;33m\u001b[0m\u001b[0m\n\u001b[0m\u001b[0;32m     58\u001b[0m \u001b[1;33m\u001b[0m\u001b[0m\n\u001b[0;32m     59\u001b[0m     \u001b[1;32mtry\u001b[0m\u001b[1;33m:\u001b[0m\u001b[1;33m\u001b[0m\u001b[1;33m\u001b[0m\u001b[0m\n",
      "\u001b[1;31mFileNotFoundError\u001b[0m: [Errno 2] No such file or directory: '/your/cs/Downloads/Utterances_Pooja.mp3'"
     ]
    }
   ],
   "source": [
    "# specify path and name of file to be split.\n",
    "# use the function to split audio.\n",
    "\n",
    "path = '/your/cs/Downloads/'\n",
    "file = 'Utterances_Pooja.mp3'\n",
    "\n",
    "# choose split rate in ms. \n",
    "# split rate of 7000 ms is comparable to the duration of \n",
    "#  other audio clips.\n",
    "# for splitting pooja's mp3 file, replaced split rate of \n",
    "#  5742 instead of 7000.\n",
    "\n",
    "split_audio(path, file, 7000, play_clip=False)\n"
   ]
  },
  {
   "cell_type": "markdown",
   "metadata": {
    "collapsed": true
   },
   "source": [
    "### Function to create dataframe of audio clips"
   ]
  },
  {
   "cell_type": "code",
   "execution_count": 8,
   "metadata": {},
   "outputs": [
    {
     "name": "stdout",
     "output_type": "stream",
     "text": [
      "Ready to create dataframe\n"
     ]
    }
   ],
   "source": [
    "# get file names into dataframe for export as csv.\n",
    "# allows the flexibility to specify the path to the   \n",
    "#  audio clips and the file extension.\n",
    "\n",
    "def get_fname_df_csv(path, ext):\n",
    "    clips = glob.glob(path + ext)\n",
    "    clips = sorted(clips)\n",
    "    files = []\n",
    "    for clip in clips:\n",
    "        file = re.sub(path,'', clip)\n",
    "        files.append(file)\n",
    "    \n",
    "    tag = input('Enter the speaker\\'s first name followed by _ and last initial (all lower case, no spaces: ' )\n",
    "    tag = re.sub('\\s+','', tag)\n",
    "    sex = input('Is the speaker male (m) or female (f)?: ' )\n",
    "    sex = re.sub('\\s+','', sex)\n",
    "    age = input('Is the speaker at least 16 years old (y/n)?: ' )\n",
    "    age = re.sub('\\s+','', age)\n",
    "    print('\\nCreating df...')\n",
    "    \n",
    "    df = pd.DataFrame({'audio':files, 'speaker':tag,\n",
    "                       'gender':sex, 'adult':age})\n",
    "    \n",
    "    file_prefix = input('Enter the speaker\\'s first and last initial (lower case) w/o spaces: ' )\n",
    "    file_prefix = re.sub('\\s+','', file_prefix)\n",
    "    print('\\nExporting df as csv...')\n",
    "    df.to_csv(file_prefix + '_audio_df.csv') \n",
    "    \n",
    "    return(df)\n",
    "\n",
    "print('Ready to create dataframe')\n"
   ]
  },
  {
   "cell_type": "code",
   "execution_count": 9,
   "metadata": {},
   "outputs": [
    {
     "name": "stdout",
     "output_type": "stream",
     "text": [
      "Enter the speaker's first name followed by _ and last initial (all lower case, no spaces: pooja_r\n",
      "Is the speaker male (m) or female (f)?: f\n",
      "Is the speaker at least 16 years old (y/n)?: y\n",
      "\n",
      "Creating df...\n",
      "Enter the speaker's first and last initial (lower case) w/o spaces: pr\n",
      "\n",
      "Exporting df as csv...\n"
     ]
    }
   ],
   "source": [
    "# specify path and ext of clips to be included in df\n",
    "# use the function to create df and export as csv\n",
    "\n",
    "path = '/Users/cs/desktop/pr_audio/'\n",
    "ext = '*.wav'\n",
    "    \n",
    "pr = get_fname_df_csv(path, ext)\n"
   ]
  },
  {
   "cell_type": "code",
   "execution_count": null,
   "metadata": {},
   "outputs": [],
   "source": [
    "# using the function above to split pooja's mp3 file on  \n",
    "#  split rate yields an average clip size > 500kb. For each \n",
    "#  audio clip, the play length > 5 sec. "
   ]
  },
  {
   "cell_type": "markdown",
   "metadata": {},
   "source": [
    "### Function to get path to each audio clip in data"
   ]
  },
  {
   "cell_type": "code",
   "execution_count": null,
   "metadata": {},
   "outputs": [],
   "source": [
    "# audio data are vocalizations (clips) that reside in \n",
    "#  speaker-specific folders that are named with '_audio' \n",
    "#  appended at the end.\n",
    "\n",
    "def get_path(root, clip):\n",
    "    \n",
    "    for path,subdirs,files in os.walk(root):\n",
    "        for subdir in subdirs:\n",
    "            if subdir.endswith('_audio'):\n",
    "                folder = os.path.join(root + subdir + '/')\n",
    "                folder = ''.join(folder) \n",
    "                for files in os.listdir(folder):\n",
    "                    if files.endswith(clip):\n",
    "                        clip_path = os.path.join(root + subdir + '/')\n",
    "    return clip_path\n"
   ]
  }
 ],
 "metadata": {
  "kernelspec": {
   "display_name": "Python 3",
   "language": "python",
   "name": "python3"
  },
  "language_info": {
   "codemirror_mode": {
    "name": "ipython",
    "version": 3
   },
   "file_extension": ".py",
   "mimetype": "text/x-python",
   "name": "python",
   "nbconvert_exporter": "python",
   "pygments_lexer": "ipython3",
   "version": "3.6.8"
  }
 },
 "nbformat": 4,
 "nbformat_minor": 2
}
