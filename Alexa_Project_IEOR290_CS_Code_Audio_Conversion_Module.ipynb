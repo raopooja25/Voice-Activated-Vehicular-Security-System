{
 "cells": [
  {
   "cell_type": "markdown",
   "metadata": {},
   "source": [
    "\n",
    "\n",
    "# Alexa Project Code Contribution\n",
    "\n",
    "> Author: Chet (techds on GitHub)  \n",
    "> * Audio conversion module:  \n",
    ">   * convert WAV file into log-power mel-spectrogram image\n"
   ]
  },
  {
   "cell_type": "code",
   "execution_count": 1,
   "metadata": {},
   "outputs": [],
   "source": [
    "# imports\n",
    "\n",
    "import librosa\n",
    "import librosa.display\n",
    "import matplotlib.pyplot as plt\n",
    "import os\n",
    "import numpy as np\n",
    "import time\n"
   ]
  },
  {
   "cell_type": "code",
   "execution_count": 2,
   "metadata": {},
   "outputs": [
    {
     "name": "stdout",
     "output_type": "stream",
     "text": [
      "1   alexa_voice_command.wav\n",
      "2   rt_split_sent003.wav\n",
      "3   rt_split_sent002.wav\n",
      "4   rt_split_sent001.wav\n",
      "\n",
      "Finished saving 4 in 2.79 seconds!\n"
     ]
    }
   ],
   "source": [
    "\n",
    "dirname = './Desktop/rt_audio/'\n",
    "i = 0\n",
    "beg_time = time.time()\n",
    "for file in os.listdir(dirname): \n",
    "    if file.endswith('.wav'):  \n",
    "        i += 1 \n",
    "        print(i, ' ', file)\n",
    "        fname = file[:-4]\n",
    "        \n",
    "        data, sr = librosa.load(os.path.join(dirname,file))\n",
    "        ms = librosa.feature.melspectrogram(y=data, sr=sr, n_mels=128, fmax=8000)\n",
    "        logms = librosa.power_to_db(ms, ref=np.max)\n",
    "          \n",
    "        fig, ax = plt.subplots(figsize=(5, 3))\n",
    "        ax.set_axis_off()\n",
    "        librosa.display.specshow(logms, y_axis='mel', fmax=8000, x_axis='time'); \n",
    "        fig.savefig(dirname + 'plot_'+ fname +'.jpg')\n",
    "        plt.close()\n",
    "elapsed = time.time() - beg_time \n",
    "print('\\nFinished saving {0} in {1} seconds!'.format(i, round(elapsed,2) ) )\n"
   ]
  }
 ],
 "metadata": {
  "kernelspec": {
   "display_name": "Python 3",
   "language": "python",
   "name": "python3"
  },
  "language_info": {
   "codemirror_mode": {
    "name": "ipython",
    "version": 3
   },
   "file_extension": ".py",
   "mimetype": "text/x-python",
   "name": "python",
   "nbconvert_exporter": "python",
   "pygments_lexer": "ipython3",
   "version": "3.6.7"
  }
 },
 "nbformat": 4,
 "nbformat_minor": 2
}
