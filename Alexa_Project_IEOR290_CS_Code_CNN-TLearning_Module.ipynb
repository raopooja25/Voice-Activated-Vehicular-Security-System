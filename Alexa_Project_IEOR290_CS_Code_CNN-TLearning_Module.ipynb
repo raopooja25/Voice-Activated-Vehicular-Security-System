{
 "cells": [
  {
   "cell_type": "markdown",
   "metadata": {},
   "source": [
    "\n",
    "\n",
    "# Alexa Project Code Contribution\n",
    "\n",
    "> Author: Chet (techds on GitHub)  \n",
    "> * Transfer Learning and CNN:  \n",
    ">   * image data ingestion (VGG16 bottleneck features via image data generator)  \n",
    ">   * model prediction  \n"
   ]
  },
  {
   "cell_type": "code",
   "execution_count": 1,
   "metadata": {},
   "outputs": [
    {
     "name": "stderr",
     "output_type": "stream",
     "text": [
      "Using TensorFlow backend.\n"
     ]
    },
    {
     "name": "stdout",
     "output_type": "stream",
     "text": [
      "Ready for data ingestion and model prediction\n"
     ]
    }
   ],
   "source": [
    "# imports\n",
    "\n",
    "import numpy as np\n",
    "np.random.seed(200) \n",
    "import tensorflow as tf\n",
    "from tensorflow import set_random_seed \n",
    "set_random_seed(300)\n",
    "\n",
    "from keras import applications\n",
    "from keras import optimizers\n",
    "from keras.callbacks import ModelCheckpoint, Callback, \\\n",
    "                            CSVLogger, EarlyStopping, TensorBoard\n",
    "from keras.layers import AveragePooling2D, BatchNormalization, Conv2D, \\\n",
    "                         MaxPooling2D, Dense, Dropout, Activation, Flatten,\\\n",
    "                         ZeroPadding2D\n",
    "from keras.models import load_model, Sequential\n",
    "from keras.preprocessing import image\n",
    "from keras.preprocessing.image import array_to_img, img_to_array, load_img,\\\n",
    "                                      ImageDataGenerator\n",
    "from keras.utils import to_categorical\n",
    "from keras.utils import np_utils\n",
    "\n",
    "from sklearn.preprocessing import LabelEncoder, StandardScaler \n",
    "from sklearn.utils import shuffle as sh\n",
    "\n",
    "import warnings\n",
    "warnings.filterwarnings('ignore')\n",
    "\n",
    "import librosa\n",
    "import librosa.display\n",
    "import matplotlib.pyplot as plt\n",
    "import os\n",
    "import pandas as pd\n",
    "from PIL import Image\n",
    "from pydub import AudioSegment as audio\n",
    "from pydub.playback import play \n",
    "import re\n",
    "import time\n",
    "\n",
    "# functions\n",
    "\n",
    "def plot_loss_acc(hist):\n",
    "    f, ax = plt.subplots()\n",
    "    ax.plot([None] + hist.history['acc'], 'o-', c='r')\n",
    "    ax.plot([None] + hist.history['val_acc'], '*-', c='g')\n",
    "    ax.legend(['Train acc', 'Val acc'], loc = 0)\n",
    "    ax.set_title('Training/Validation Accuracy per Epoch')\n",
    "    ax.set_xlabel('Epoch')\n",
    "    ax.set_ylabel('Accuracy') \n",
    "    plt.plot()\n",
    "    \n",
    "    f, ax = plt.subplots()\n",
    "    ax.plot([None] + hist.history['loss'], 'o-', c='r')\n",
    "    ax.plot([None] + hist.history['val_loss'], '*-', c='g')\n",
    "    ax.legend(['Train loss', 'Val loss'], loc = 0)\n",
    "    ax.set_title('Training/Validation Loss per Epoch')\n",
    "    ax.set_xlabel('Epoch')\n",
    "    ax.set_ylabel('Loss') \n",
    "    plt.plot()\n",
    "    \n",
    "def tag_cols(df,beg_str,last_col_name):\n",
    "    colnames = []\n",
    "    beg_str = str(beg_str)\n",
    "    len_col = len(df.columns)\n",
    "    for l in range(len_col-1 ):\n",
    "        name = beg_str + str(l+1)\n",
    "        colnames.append(name)\n",
    "    last_col_name = str(last_col_name)\n",
    "    colnames.append(last_col_name)\n",
    "    df.columns = colnames\n",
    "    \n",
    "print('Ready for data ingestion and model prediction')\n"
   ]
  },
  {
   "cell_type": "code",
   "execution_count": 3,
   "metadata": {},
   "outputs": [
    {
     "name": "stdout",
     "output_type": "stream",
     "text": [
      "Data paths set\n"
     ]
    }
   ],
   "source": [
    "# instantiate vars:\n",
    "img_width, img_height = 150, 102  \n",
    "n_tr_samples = 750\n",
    "n_vl_samples = 150\n",
    "n_te_samples = 10   \n",
    "n_epochs = 20\n",
    "out = n_te_samples \n",
    "\n",
    "# set dir paths\n",
    "trn_dir = './Desktop/nn_audio/trn/'\n",
    "val_dir = './Desktop/nn_audio/val/'\n",
    "tst_dir = './Desktop/nn_audio/tst/'\n",
    "\n",
    "print('Data paths set')\n"
   ]
  },
  {
   "cell_type": "code",
   "execution_count": 4,
   "metadata": {},
   "outputs": [
    {
     "name": "stdout",
     "output_type": "stream",
     "text": [
      "Found 750 images belonging to 10 classes.\n",
      "\n",
      " {'anderson': 0, 'chet': 1, 'jack': 2, 'ken': 3, 'meghan': 4, 'mikio': 5, 'pooja': 6, 'rachel': 7, 'rene': 8, 'serhad': 9}\n"
     ]
    }
   ],
   "source": [
    "# read images in dirs and generate batches of image data \n",
    "\n",
    "datagen = ImageDataGenerator(rescale=1./255)\n",
    "tr_gen = datagen.flow_from_directory(\n",
    "            directory=trn_dir,                             \n",
    "            target_size=(img_width, img_height), \n",
    "            batch_size=32,\n",
    "            class_mode='categorical',   \n",
    "            shuffle=False) \n",
    "\n",
    "tr_lab = tr_gen.classes\n",
    "num_lab = len(np.unique(tr_lab))\n",
    "spk_idx = tr_gen.class_indices\n",
    "print('\\n',spk_idx)\n"
   ]
  },
  {
   "cell_type": "code",
   "execution_count": 5,
   "metadata": {},
   "outputs": [
    {
     "name": "stdout",
     "output_type": "stream",
     "text": [
      "Found 150 images belonging to 10 classes.\n",
      "['anderson', 'chet', 'jack', 'ken', 'meghan', 'mikio', 'pooja', 'rachel', 'rene', 'serhad']\n"
     ]
    }
   ],
   "source": [
    "vl_gen = datagen.flow_from_directory(\n",
    "            val_dir,                            \n",
    "            target_size=(img_width, img_height),\n",
    "            batch_size=32,\n",
    "            class_mode='categorical',  \n",
    "            shuffle=False)\n",
    "\n",
    "val_imgs = []\n",
    "speakers = [] \n",
    "for path,subdirs,files in os.walk(val_dir):\n",
    "    for subdir in subdirs:\n",
    "        speakers.append(subdir)\n",
    "        folder_path = os.path.join(val_dir + subdir + '/')\n",
    "        folder_path = ''.join(folder_path)\n",
    "        for files in os.listdir(folder_path):\n",
    "            if files.endswith('.jpg'):\n",
    "                val_imgs.append(files)\n",
    "\n",
    "speakers = sorted(speakers)\n",
    "print(speakers) \n"
   ]
  },
  {
   "cell_type": "code",
   "execution_count": 6,
   "metadata": {},
   "outputs": [
    {
     "name": "stdout",
     "output_type": "stream",
     "text": [
      "train data shape:  (750, 4, 3, 512) \n",
      " val data shape :  (150, 4, 3, 512) \n",
      " test data shape:  (10, 4, 3, 512)\n"
     ]
    }
   ],
   "source": [
    "# load the saved VGG16 bottleneck features for train, val, and test images\n",
    "\n",
    "x_tr = np.load(trn_dir + 'features_audio_trn.npy')\n",
    "x_vl = np.load(val_dir + 'features_audio_val.npy')\n",
    "x_te = np.load(tst_dir + 'features_audio_tst.npy') \n",
    "\n",
    "print('train data shape: ', x_tr.shape, '\\n', 'val data shape : ', x_vl.shape,\\\n",
    "      '\\n', 'test data shape: ',  x_te.shape)\n"
   ]
  },
  {
   "cell_type": "code",
   "execution_count": 7,
   "metadata": {},
   "outputs": [
    {
     "name": "stdout",
     "output_type": "stream",
     "text": [
      "[0 1 2 3 4 5 6 7 8 9]\n"
     ]
    }
   ],
   "source": [
    "# create labels\n",
    "y_tr = np.array([0] * (n_tr_samples // out) + [1] * (n_tr_samples // out) + \\\n",
    "                [2] * (n_tr_samples // out) + [3] * (n_tr_samples // out) + \\\n",
    "                [4] * (n_tr_samples // out) + [5] * (n_tr_samples // out) + \\\n",
    "                [6] * (n_tr_samples // out) + [7] * (n_tr_samples // out) + \\\n",
    "                [8] * (n_tr_samples // out) + [9] * (n_tr_samples // out) )\n",
    "\n",
    "y_vl = np.array([0] * (n_vl_samples // out) + [1] * (n_vl_samples // out) + \\\n",
    "                [2] * (n_vl_samples // out) + [3] * (n_vl_samples // out) + \\\n",
    "                [4] * (n_vl_samples // out) + [5] * (n_vl_samples // out) + \\\n",
    "                [6] * (n_vl_samples // out) + [7] * (n_vl_samples // out) + \\\n",
    "                [8] * (n_vl_samples // out) + [9] * (n_vl_samples // out) )\n",
    "\n",
    "\n",
    "y_te = np.array([0] * (n_te_samples // out) + [1] * (n_te_samples // out) + \\\n",
    "                [2] * (n_te_samples // out) + [3] * (n_te_samples // out) + \\\n",
    "                [4] * (n_te_samples // out) + [5] * (n_te_samples // out) + \\\n",
    "                [6] * (n_te_samples // out) + [7] * (n_te_samples // out) + \\\n",
    "                [8] * (n_te_samples // out) + [9] * (n_te_samples // out) )\n",
    "print(y_te)\n"
   ]
  },
  {
   "cell_type": "code",
   "execution_count": 8,
   "metadata": {},
   "outputs": [
    {
     "name": "stdout",
     "output_type": "stream",
     "text": [
      "train data shape:  (750, 64, 32, 3) \n",
      " val data shape :  (150, 64, 32, 3) \n",
      " test data shape:  (10, 64, 32, 3)\n"
     ]
    }
   ],
   "source": [
    "y_tr_cat = to_categorical(y_tr)\n",
    "y_vl_cat = to_categorical(y_vl)\n",
    "y_te_cat = to_categorical(y_te)\n",
    "\n",
    "input_tensor = (64, 32, 3)\n",
    "x_tr = x_tr.reshape((x_tr.shape[0],) + input_tensor) \n",
    "x_vl = x_vl.reshape((x_vl.shape[0],) + input_tensor)\n",
    "x_te = x_te.reshape((x_te.shape[0],) + input_tensor)\n",
    "\n",
    "print('train data shape: ', x_tr.shape, '\\n', 'val data shape : ', x_vl.shape,\\\n",
    "      '\\n', 'test data shape: ',  x_te.shape)\n"
   ]
  },
  {
   "cell_type": "code",
   "execution_count": 10,
   "metadata": {},
   "outputs": [
    {
     "name": "stdout",
     "output_type": "stream",
     "text": [
      "_________________________________________________________________\n",
      "Layer (type)                 Output Shape              Param #   \n",
      "=================================================================\n",
      "conv2d_1 (Conv2D)            (None, 62, 30, 6)         168       \n",
      "_________________________________________________________________\n",
      "average_pooling2d_1 (Average (None, 31, 15, 6)         0         \n",
      "_________________________________________________________________\n",
      "conv2d_2 (Conv2D)            (None, 29, 13, 16)        880       \n",
      "_________________________________________________________________\n",
      "average_pooling2d_2 (Average (None, 14, 6, 16)         0         \n",
      "_________________________________________________________________\n",
      "flatten_1 (Flatten)          (None, 1344)              0         \n",
      "_________________________________________________________________\n",
      "dense_1 (Dense)              (None, 120)               161400    \n",
      "_________________________________________________________________\n",
      "dense_2 (Dense)              (None, 84)                10164     \n",
      "_________________________________________________________________\n",
      "dense_3 (Dense)              (None, 10)                850       \n",
      "_________________________________________________________________\n",
      "activation_1 (Activation)    (None, 10)                0         \n",
      "=================================================================\n",
      "Total params: 173,462\n",
      "Trainable params: 173,462\n",
      "Non-trainable params: 0\n",
      "_________________________________________________________________\n"
     ]
    }
   ],
   "source": [
    "# feed the image feature arrays to the CNN (mod1)\n",
    "\n",
    "mod1 = Sequential()\n",
    "\n",
    "mod1.add(Conv2D(filters=6, kernel_size=(3, 3), activation='relu', \n",
    "                 input_shape=input_tensor))\n",
    " \n",
    "mod1.add(AveragePooling2D())\n",
    "\n",
    "mod1.add(Conv2D(filters=16, kernel_size=(3, 3), activation='relu'))\n",
    "mod1.add(AveragePooling2D())\n",
    "\n",
    "mod1.add(Flatten())\n",
    "mod1.add(Dense(units=120, activation='relu'))\n",
    "\n",
    "mod1.add(Dense(units=84, activation='relu'))\n",
    "\n",
    "mod1.add(Dense(out))\n",
    "mod1.add(Activation(tf.nn.softmax))\n",
    "\n",
    "mod1.summary()\n"
   ]
  },
  {
   "cell_type": "code",
   "execution_count": 11,
   "metadata": {},
   "outputs": [
    {
     "name": "stdout",
     "output_type": "stream",
     "text": [
      "Train on 750 samples, validate on 150 samples\n",
      "Epoch 1/20\n",
      "750/750 [==============================] - 1s 2ms/step - loss: 2.3070 - acc: 0.1173 - val_loss: 2.2917 - val_acc: 0.1067\n",
      "Epoch 2/20\n",
      "750/750 [==============================] - 1s 1ms/step - loss: 2.2810 - acc: 0.1947 - val_loss: 2.2497 - val_acc: 0.2400\n",
      "Epoch 3/20\n",
      "750/750 [==============================] - 1s 2ms/step - loss: 2.1943 - acc: 0.2507 - val_loss: 2.0531 - val_acc: 0.3467\n",
      "Epoch 4/20\n",
      "750/750 [==============================] - 1s 1ms/step - loss: 1.8825 - acc: 0.3800 - val_loss: 1.7276 - val_acc: 0.4000\n",
      "Epoch 5/20\n",
      "750/750 [==============================] - 1s 1ms/step - loss: 1.5967 - acc: 0.3893 - val_loss: 1.5325 - val_acc: 0.5467\n",
      "Epoch 6/20\n",
      "750/750 [==============================] - 1s 1ms/step - loss: 1.3204 - acc: 0.5360 - val_loss: 1.2585 - val_acc: 0.5533\n",
      "Epoch 7/20\n",
      "750/750 [==============================] - 1s 2ms/step - loss: 1.1324 - acc: 0.6120 - val_loss: 1.1140 - val_acc: 0.6467\n",
      "Epoch 8/20\n",
      "750/750 [==============================] - 1s 1ms/step - loss: 0.9754 - acc: 0.6667 - val_loss: 0.8938 - val_acc: 0.6200\n",
      "Epoch 9/20\n",
      "750/750 [==============================] - 1s 1ms/step - loss: 0.8558 - acc: 0.7200 - val_loss: 0.7732 - val_acc: 0.7800\n",
      "Epoch 10/20\n",
      "750/750 [==============================] - 1s 1ms/step - loss: 0.7658 - acc: 0.7307 - val_loss: 0.6398 - val_acc: 0.8200\n",
      "Epoch 11/20\n",
      "750/750 [==============================] - 1s 2ms/step - loss: 0.6527 - acc: 0.8053 - val_loss: 0.6029 - val_acc: 0.8000\n",
      "Epoch 12/20\n",
      "750/750 [==============================] - 1s 2ms/step - loss: 0.6106 - acc: 0.8053 - val_loss: 0.5109 - val_acc: 0.8533\n",
      "Epoch 13/20\n",
      "750/750 [==============================] - 1s 1ms/step - loss: 0.5086 - acc: 0.8480 - val_loss: 0.5365 - val_acc: 0.8000\n",
      "Epoch 14/20\n",
      "750/750 [==============================] - 1s 1ms/step - loss: 0.4633 - acc: 0.8467 - val_loss: 0.4673 - val_acc: 0.8333\n",
      "Epoch 15/20\n",
      "750/750 [==============================] - 1s 1ms/step - loss: 0.4204 - acc: 0.8707 - val_loss: 0.3748 - val_acc: 0.8600\n",
      "Epoch 16/20\n",
      "750/750 [==============================] - 1s 1ms/step - loss: 0.4510 - acc: 0.8533 - val_loss: 0.3349 - val_acc: 0.9000\n",
      "Epoch 17/20\n",
      "750/750 [==============================] - 1s 1ms/step - loss: 0.4235 - acc: 0.8613 - val_loss: 0.4347 - val_acc: 0.8333\n",
      "Epoch 18/20\n",
      "750/750 [==============================] - 1s 1ms/step - loss: 0.4342 - acc: 0.8387 - val_loss: 0.3643 - val_acc: 0.9000\n",
      "Epoch 19/20\n",
      "750/750 [==============================] - 1s 1ms/step - loss: 0.3346 - acc: 0.8933 - val_loss: 0.2688 - val_acc: 0.9400\n",
      "Epoch 20/20\n",
      "750/750 [==============================] - 1s 1ms/step - loss: 0.3093 - acc: 0.9147 - val_loss: 0.2304 - val_acc: 0.9467\n"
     ]
    }
   ],
   "source": [
    "# compile and fit the model\n",
    "mod1.compile(loss='categorical_crossentropy', \n",
    "              metrics=['accuracy'],\n",
    "              optimizer='adam')\n",
    "\n",
    "hist_mod1_vgg16 = mod1.fit(x_tr, y_tr_cat,\n",
    "                            batch_size = 32,\n",
    "                            epochs = n_epochs,\n",
    "                            validation_data = (x_vl, y_vl_cat))\n"
   ]
  },
  {
   "cell_type": "code",
   "execution_count": 12,
   "metadata": {},
   "outputs": [
    {
     "data": {
      "image/png": "[encoded data removed]",
      "text/plain": [
       "<Figure size 432x288 with 1 Axes>"
      ]
     },
     "metadata": {
      "needs_background": "light"
     },
     "output_type": "display_data"
    },
    {
     "data": {
      "image/png": "[encoded data removed]",
      "text/plain": [
       "<Figure size 432x288 with 1 Axes>"
      ]
     },
     "metadata": {
      "needs_background": "light"
     },
     "output_type": "display_data"
    }
   ],
   "source": [
    "plot_loss_acc(hist_mod1_vgg16)\n"
   ]
  },
  {
   "cell_type": "code",
   "execution_count": 13,
   "metadata": {},
   "outputs": [
    {
     "name": "stdout",
     "output_type": "stream",
     "text": [
      "['plot_audio_m.jpg']\n"
     ]
    }
   ],
   "source": [
    "# access and authenticate voice command\n",
    "\n",
    "datagen = ImageDataGenerator(rescale=1./255)\n",
    "pred_dir = './Desktop/nn_audio/chk/'\n",
    "pred_imgs = []\n",
    "for files in os.listdir(pred_dir + '/' + 'speaker'):\n",
    "    if files.endswith('.jpg'):\n",
    "        pred_imgs.append(files)\n",
    "print(pred_imgs)\n",
    "num_pred = len(pred_imgs)\n"
   ]
  },
  {
   "cell_type": "code",
   "execution_count": 14,
   "metadata": {},
   "outputs": [
    {
     "name": "stdout",
     "output_type": "stream",
     "text": [
      "Authenticating...\n",
      "\n",
      "Found 1 images belonging to 1 classes.\n"
     ]
    }
   ],
   "source": [
    "print('Authenticating...\\n')\n",
    "batch_size = 1\n",
    "te_gen = datagen.flow_from_directory(\n",
    "                    directory=pred_dir,\n",
    "                    target_size=(64, 32),\n",
    "                    #color_mode='rgb',\n",
    "                    batch_size=batch_size,\n",
    "                    class_mode=None,\n",
    "                    shuffle=False)\n"
   ]
  },
  {
   "cell_type": "code",
   "execution_count": 15,
   "metadata": {},
   "outputs": [
    {
     "name": "stdout",
     "output_type": "stream",
     "text": [
      "\r",
      "1/1 [==============================] - 0s 134ms/step\n"
     ]
    }
   ],
   "source": [
    "te_gen.reset()\n",
    "pred = mod1.predict_generator(te_gen, verbose=1, \n",
    "                              steps=num_pred/batch_size)\n"
   ]
  },
  {
   "cell_type": "code",
   "execution_count": 16,
   "metadata": {},
   "outputs": [
    {
     "name": "stdout",
     "output_type": "stream",
     "text": [
      "I'm 96.36% sure that you are RACHEL.\n"
     ]
    }
   ],
   "source": [
    "pred_rs = pred.reshape(len(speakers),1)\n",
    "pred_df = pd.DataFrame(list(map(np.ravel, pred_rs)))\n",
    "pred_df.columns = ['f']\n",
    "pred_ls = np.array(pred_df['f'].tolist())\n",
    "\n",
    "prob_thresh = .95\n",
    "max_prob = np.max(pred_ls)\n",
    "max_prob_val = round(max_prob * 100,2)\n",
    "max_prob_ind = pred_ls.tolist().index(max_prob) \n",
    "pred_label = speakers[max_prob_ind]\n",
    "pred_label = re.sub('\\_(.*)','', pred_label)\n",
    "\n",
    "print('I\\'m %s%% sure that you are %s.'\\\n",
    "      % (max_prob_val, pred_label.upper()) )\n"
   ]
  },
  {
   "cell_type": "code",
   "execution_count": null,
   "metadata": {},
   "outputs": [],
   "source": []
  }
 ],
 "metadata": {
  "kernelspec": {
   "display_name": "Python 3",
   "language": "python",
   "name": "python3"
  },
  "language_info": {
   "codemirror_mode": {
    "name": "ipython",
    "version": 3
   },
   "file_extension": ".py",
   "mimetype": "text/x-python",
   "name": "python",
   "nbconvert_exporter": "python",
   "pygments_lexer": "ipython3",
   "version": "3.6.7"
  }
 },
 "nbformat": 4,
 "nbformat_minor": 2
}
