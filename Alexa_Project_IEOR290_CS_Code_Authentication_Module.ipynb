{
 "cells": [
  {
   "cell_type": "markdown",
   "metadata": {},
   "source": [
    "\n",
    "\n",
    "# Alexa Project Code Contribution\n",
    "\n",
    "> Author: Chet (techds on GitHub)  \n",
    "> * Authentication module:  \n",
    ">   * sample key strings or phrases from 10 key speakers \n",
    ">   * sample ML model results \n",
    ">   * sample text of voice command \n",
    ">   * authentication process and code\n"
   ]
  },
  {
   "cell_type": "code",
   "execution_count": null,
   "metadata": {},
   "outputs": [],
   "source": []
  },
  {
   "cell_type": "code",
   "execution_count": 7,
   "metadata": {},
   "outputs": [],
   "source": [
    "# imports\n",
    "\n",
    "import numpy as np\n",
    "import re\n"
   ]
  },
  {
   "cell_type": "code",
   "execution_count": 8,
   "metadata": {},
   "outputs": [
    {
     "name": "stdout",
     "output_type": "stream",
     "text": [
      "Authenticating...\n",
      "\n"
     ]
    }
   ],
   "source": [
    "\n",
    "keystr = {\n",
    "        'anderson': 'unlock car please because the news media needs you to',\n",
    "        'chet': 'no frills access to my silver spectacular remarkable sweet ride',\n",
    "        'jack': 'need you to grant me access so i can win the tournament',\n",
    "        'ken': 'please pop the royal door open for the sake of the queen',\n",
    "        'meghan':'i will be a senator one day so please unlock my vehicle now',\n",
    "        'mikio':'by the power vested in me i command you to disengage the lock',\n",
    "        'pooja': 'as they say in mumbai every door ajar is a way to enter',\n",
    "        'rachel': 'please open the gold encrusted door for a famous tv anchor',\n",
    "        'rene': 'open the door to my ferrari zero to sixty in two seconds',\n",
    "        'serhad': 'hey this is serhad asking you to unclock my car in one'\n",
    "        }\n",
    "\n",
    "\n",
    "modpred = {'rene': '90.22%'} \n",
    "\n",
    "cmddict = {'speaker': 'open the door to my furry zero to sixty in seconds'}\n",
    "\n",
    "print('Authenticating...\\n')\n"
   ]
  },
  {
   "cell_type": "code",
   "execution_count": 9,
   "metadata": {},
   "outputs": [],
   "source": [
    "# ML model (unpickled or via a pb file or inline implementation)\n"
   ]
  },
  {
   "cell_type": "markdown",
   "metadata": {},
   "source": [
    "### Authentication (will vary slightly with model implementation)"
   ]
  },
  {
   "cell_type": "code",
   "execution_count": 11,
   "metadata": {},
   "outputs": [
    {
     "name": "stdout",
     "output_type": "stream",
     "text": [
      "Authentication completed.\n",
      "Congratulations RENE! You now have access to your car.\n"
     ]
    }
   ],
   "source": [
    "num_match = 5\n",
    "min_prob = 50\n",
    "match_cnt = 0\n",
    "modpredkey = list(modpred.keys())[0]\n",
    "modpredval = list(modpred.values())[0]\n",
    "modpredval = float(re.sub('\\%', '', modpredval) ) \n",
    "\n",
    "common = []    \n",
    "if modpredkey in keystr:\n",
    "    pre_rec_cmd = keystr.get(modpredkey, 'N/A')\n",
    "    command = list(cmddict.values())[0]\n",
    "    cmdlist = re.sub('[^\\w]', ' ',  command).split() \n",
    "    for word in cmdlist:\n",
    "        if word in pre_rec_cmd:\n",
    "            common.append(word)\n",
    "            match_cnt += 1\n",
    "        \n",
    "if len(np.unique(common)) > num_match and modpredval > min_prob:\n",
    "    print('Authentication completed.')\n",
    "    print('Congratulations {}! You now have access to your car.'\\\n",
    "          .format(modpredkey.upper() ) ) \n",
    "else:\n",
    "    print('There seems to be a problem. I am unable to authenticate you.')\n",
    "    print('Let\\'s try again. Could you please re-record your command.')\n",
    "    "
   ]
  }
 ],
 "metadata": {
  "kernelspec": {
   "display_name": "Python 3",
   "language": "python",
   "name": "python3"
  },
  "language_info": {
   "codemirror_mode": {
    "name": "ipython",
    "version": 3
   },
   "file_extension": ".py",
   "mimetype": "text/x-python",
   "name": "python",
   "nbconvert_exporter": "python",
   "pygments_lexer": "ipython3",
   "version": "3.6.7"
  }
 },
 "nbformat": 4,
 "nbformat_minor": 2
}
